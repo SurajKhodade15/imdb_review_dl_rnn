{
 "cells": [
  {
   "cell_type": "markdown",
   "id": "e3e55b4f",
   "metadata": {},
   "source": [
    "# Word Embedding Tutorial for IMDB Sentiment Analysis\n",
    "\n",
    "This notebook demonstrates:\n",
    "1. **One-hot encoding** - Traditional sparse representation of words\n",
    "2. **Word embeddings** - Dense vector representation using Keras Embedding layer\n",
    "3. **Sequence padding** - Making all sequences the same length for neural network input\n",
    "\n",
    "Word embeddings are crucial for NLP tasks as they capture semantic relationships between words in dense, low-dimensional vectors."
   ]
  },
  {
   "cell_type": "code",
   "execution_count": null,
   "id": "7989c8d3",
   "metadata": {},
   "outputs": [],
   "source": [
    "# Import required libraries for word embedding demonstration\n",
    "import numpy as np\n",
    "import matplotlib.pyplot as plt\n",
    "import seaborn as sns\n",
    "from tensorflow.keras.preprocessing.text import one_hot\n",
    "from tensorflow.keras.layers import Embedding\n",
    "from tensorflow.keras.preprocessing.sequence import pad_sequences\n",
    "from tensorflow.keras.models import Sequential\n",
    "import os\n",
    "\n",
    "# Set style for better visualizations\n",
    "plt.style.use('seaborn-v0_8')\n",
    "sns.set_palette(\"husl\")\n",
    "\n",
    "# Create plots directory if it doesn't exist\n",
    "os.makedirs('plots', exist_ok=True)"
   ]
  },
  {
   "cell_type": "code",
   "execution_count": null,
   "id": "02aa230d",
   "metadata": {},
   "outputs": [],
   "source": [
    "# Sample sentences for demonstration\n",
    "# These sentences contain words related to programming and data science\n",
    "# We'll use these to show how word embeddings work\n",
    "sent = [\n",
    "    \"I love programming in Python\",\n",
    "    \"Python is great for data science\", \n",
    "    \"I enjoy solving problems with Python\",\n",
    "    \"Data science is fascinating\",\n",
    "    \"I love learning new technologies\",\n",
    "    \"Python is versatile and powerful\",\n",
    "    \"I enjoy building machine learning models\",\n",
    "]\n",
    "\n",
    "print(f\"Number of sentences: {len(sent)}\")\n",
    "print(\"Sample sentences:\")\n",
    "for i, sentence in enumerate(sent, 1):\n",
    "    print(f\"{i}. {sentence}\")"
   ]
  },
  {
   "cell_type": "code",
   "execution_count": 75,
   "id": "fefc89d9",
   "metadata": {},
   "outputs": [
    {
     "data": {
      "text/plain": [
       "['I love programming in Python',\n",
       " 'Python is great for data science',\n",
       " 'I enjoy solving problems with Python',\n",
       " 'Data science is fascinating',\n",
       " 'I love learning new technologies',\n",
       " 'Python is versatile and powerful',\n",
       " 'I enjoy building machine learning models']"
      ]
     },
     "execution_count": 75,
     "metadata": {},
     "output_type": "execute_result"
    }
   ],
   "source": [
    "sent"
   ]
  },
  {
   "cell_type": "code",
   "execution_count": null,
   "id": "e2bb649a",
   "metadata": {},
   "outputs": [],
   "source": [
    "# Define vocabulary size for one-hot encoding\n",
    "# This represents the maximum number of unique words we can handle\n",
    "# In real applications, this should be set based on your dataset size\n",
    "voc_size = 10000\n",
    "print(f\"Vocabulary size set to: {voc_size:,} words\")"
   ]
  },
  {
   "cell_type": "code",
   "execution_count": null,
   "id": "b0d5e5cc",
   "metadata": {},
   "outputs": [],
   "source": [
    "# One-hot encoding of sentences\n",
    "# This converts each word in each sentence to a unique integer\n",
    "# The one_hot function uses hashing to map words to integers\n",
    "# Note: This is a simplified approach and may have hash collisions\n",
    "\n",
    "print(\"Converting sentences to one-hot encoded format...\")\n",
    "one_hot_repr = [one_hot(words, voc_size) for words in sent]\n",
    "\n",
    "print(f\"Original sentences: {len(sent)}\")\n",
    "print(f\"One-hot encoded representations: {len(one_hot_repr)}\")\n",
    "print(\"\\nFirst sentence one-hot encoding:\")\n",
    "print(f\"'{sent[0]}' -> {one_hot_repr[0]}\")"
   ]
  },
  {
   "cell_type": "code",
   "execution_count": 78,
   "id": "b9fa0f1d",
   "metadata": {},
   "outputs": [
    {
     "data": {
      "text/plain": [
       "[[6798, 9240, 4395, 1121, 1522],\n",
       " [1522, 7967, 3023, 1313, 7195, 1282],\n",
       " [6798, 715, 127, 7492, 3931, 1522],\n",
       " [7195, 1282, 7967, 9012],\n",
       " [6798, 9240, 8157, 6650, 3499],\n",
       " [1522, 7967, 4100, 7533, 8593],\n",
       " [6798, 715, 4300, 7314, 8157, 5553]]"
      ]
     },
     "execution_count": 78,
     "metadata": {},
     "output_type": "execute_result"
    }
   ],
   "source": [
    "one_hot_repr"
   ]
  },
  {
   "cell_type": "code",
   "execution_count": null,
   "id": "cb529547",
   "metadata": {},
   "outputs": [],
   "source": [
    "# Enhanced visualization of one-hot encoded representations\n",
    "def plot_one_hot_enhanced(one_hot_repr, sent):\n",
    "    \"\"\"\n",
    "    Create an enhanced visualization of one-hot encoded sentences\n",
    "    Shows the distribution of encoded values across sentences\n",
    "    \"\"\"\n",
    "    fig, (ax1, ax2) = plt.subplots(2, 1, figsize=(14, 10))\n",
    "    \n",
    "    # Plot 1: Scatter plot of one-hot values\n",
    "    colors = plt.cm.Set3(np.linspace(0, 1, len(one_hot_repr)))\n",
    "    \n",
    "    for i, (sentence, color) in enumerate(zip(one_hot_repr, colors)):\n",
    "        ax1.scatter([i] * len(sentence), sentence, \n",
    "                   label=f'Sentence {i+1} ({len(sentence)} words)', \n",
    "                   alpha=0.7, s=60, color=color)\n",
    "    \n",
    "    ax1.set_title('One-hot Encoded Word Representations', fontsize=16, fontweight='bold')\n",
    "    ax1.set_xlabel('Sentence Index', fontsize=12)\n",
    "    ax1.set_ylabel('One-hot Encoded Values', fontsize=12)\n",
    "    ax1.set_xticks(range(len(one_hot_repr)))\n",
    "    ax1.set_xticklabels([f'S{i+1}' for i in range(len(one_hot_repr))])\n",
    "    ax1.legend(bbox_to_anchor=(1.05, 1), loc='upper left')\n",
    "    ax1.grid(True, alpha=0.3)\n",
    "    \n",
    "    # Plot 2: Sentence length distribution\n",
    "    lengths = [len(sentence) for sentence in one_hot_repr]\n",
    "    ax2.bar(range(len(lengths)), lengths, color=colors, alpha=0.7, edgecolor='black')\n",
    "    ax2.set_title('Word Count per Sentence', fontsize=16, fontweight='bold')\n",
    "    ax2.set_xlabel('Sentence Index', fontsize=12)\n",
    "    ax2.set_ylabel('Number of Words', fontsize=12)\n",
    "    ax2.set_xticks(range(len(lengths)))\n",
    "    ax2.set_xticklabels([f'S{i+1}' for i in range(len(lengths))])\n",
    "    \n",
    "    # Add value labels on bars\n",
    "    for i, v in enumerate(lengths):\n",
    "        ax2.text(i, v + 0.1, str(v), ha='center', va='bottom', fontweight='bold')\n",
    "    \n",
    "    plt.tight_layout()\n",
    "    plt.savefig('plots/one_hot_encoding_analysis.png', dpi=300, bbox_inches='tight')\n",
    "    plt.show()\n",
    "    \n",
    "    # Print analysis\n",
    "    print(\"\\\\n=== One-Hot Encoding Analysis ===\")\n",
    "    print(f\"Total sentences: {len(one_hot_repr)}\")\n",
    "    print(f\"Average words per sentence: {np.mean(lengths):.1f}\")\n",
    "    print(f\"Min/Max words: {min(lengths)}/{max(lengths)}\")\n",
    "    print(f\"Vocabulary size used: {voc_size:,}\")\n",
    "    \n",
    "    return lengths"
   ]
  },
  {
   "cell_type": "code",
   "execution_count": null,
   "id": "8891d047",
   "metadata": {},
   "outputs": [
    {
     "data": {
      "image/png": "[encoded data removed]",
      "text/plain": [
       "<Figure size 1000x600 with 1 Axes>"
      ]
     },
     "metadata": {},
     "output_type": "display_data"
    }
   ],
   "source": [
    "# Generate enhanced one-hot encoding visualization\n",
    "sentence_lengths = plot_one_hot_enhanced(one_hot_repr, sent)"
   ]
  },
  {
   "cell_type": "code",
   "execution_count": null,
   "id": "ed2132b2",
   "metadata": {},
   "outputs": [],
   "source": [
    "# Transition from one-hot to word embeddings\n",
    "# Word embeddings provide dense, learnable representations unlike sparse one-hot vectors\n",
    "# The Embedding layer learns meaningful word relationships during training\n",
    "\n",
    "print(\"\\\\n=== Moving to Word Embeddings ===\")\n",
    "print(\"Word embeddings solve limitations of one-hot encoding:\")\n",
    "print(\"✓ Dense representation (lower memory usage)\")\n",
    "print(\"✓ Learnable parameters (captures semantic relationships)\")\n",
    "print(\"✓ Fixed-size vectors regardless of vocabulary size\")\n",
    "print(\"✓ Better generalization for unseen word combinations\\\\n\")"
   ]
  },
  {
   "cell_type": "code",
   "execution_count": null,
   "id": "9ea051cb",
   "metadata": {},
   "outputs": [],
   "source": [
    "# Analyze sentence lengths for padding requirements\n",
    "# Neural networks require fixed-length inputs, so we need to pad sequences\n",
    "sent_lengths = [len(sentence) for sentence in one_hot_repr]\n",
    "max_length = max(sent_lengths)\n",
    "\n",
    "print(\"Sentence length analysis:\")\n",
    "print(f\"Sentence lengths: {sent_lengths}\")\n",
    "print(f\"Maximum length: {max_length} words\")\n",
    "print(f\"Average length: {np.mean(sent_lengths):.1f} words\")\n",
    "print(f\"We'll pad all sequences to {max_length} words for uniform input size\")"
   ]
  },
  {
   "cell_type": "code",
   "execution_count": 83,
   "id": "dcd524e9",
   "metadata": {},
   "outputs": [
    {
     "data": {
      "text/plain": [
       "6"
      ]
     },
     "execution_count": 83,
     "metadata": {},
     "output_type": "execute_result"
    }
   ],
   "source": [
    "max_length"
   ]
  },
  {
   "cell_type": "code",
   "execution_count": null,
   "id": "3e025d29",
   "metadata": {},
   "outputs": [
    {
     "data": {
      "text/plain": [
       "array([[   0, 6798, 9240, 4395, 1121, 1522],\n",
       "       [1522, 7967, 3023, 1313, 7195, 1282],\n",
       "       [6798,  715,  127, 7492, 3931, 1522],\n",
       "       [   0,    0, 7195, 1282, 7967, 9012],\n",
       "       [   0, 6798, 9240, 8157, 6650, 3499],\n",
       "       [   0, 1522, 7967, 4100, 7533, 8593],\n",
       "       [6798,  715, 4300, 7314, 8157, 5553]])"
      ]
     },
     "execution_count": 84,
     "metadata": {},
     "output_type": "execute_result"
    }
   ],
   "source": [
    "# Pad sequences to uniform length\n",
    "# 'pre' padding adds zeros at the beginning of shorter sequences\n",
    "# This ensures all sequences have the same length for neural network processing\n",
    "embedded_doc = pad_sequences(one_hot_repr, maxlen=max_length, padding='pre')\n",
    "\n",
    "print(\"Sequence padding results:\")\n",
    "print(f\"Original shapes: {[len(seq) for seq in one_hot_repr]}\")\n",
    "print(f\"Padded shape: {embedded_doc.shape}\")\n",
    "print(f\"All sequences now have length: {max_length}\")\n",
    "print(\"\\\\nFirst padded sequence:\")\n",
    "print(f\"Original: {one_hot_repr[0]}\")\n",
    "print(f\"Padded:   {embedded_doc[0]}\")\n",
    "\n",
    "embedded_doc"
   ]
  },
  {
   "cell_type": "code",
   "execution_count": null,
   "id": "5bb2e4e3",
   "metadata": {},
   "outputs": [],
   "source": [
    "# Define embedding dimension\n",
    "# This determines the size of the dense vector representation for each word\n",
    "# Higher dimensions can capture more complex relationships but require more memory\n",
    "dim = 10\n",
    "\n",
    "print(f\"Embedding dimension set to: {dim}\")\n",
    "print(f\"Each word will be represented as a {dim}-dimensional vector\")\n",
    "print(f\"Total embedding parameters: {voc_size:,} × {dim} = {voc_size * dim:,}\")"
   ]
  },
  {
   "cell_type": "code",
   "execution_count": null,
   "id": "c974b4be",
   "metadata": {},
   "outputs": [],
   "source": [
    "# Create embedding model\n",
    "# The Embedding layer maps integer indices to dense vectors\n",
    "# Parameters:\n",
    "# - voc_size: vocabulary size (input dimension)\n",
    "# - dim: embedding dimension (output dimension)  \n",
    "# - input_length: length of input sequences\n",
    "model = Sequential()\n",
    "model.add(Embedding(voc_size, dim, input_length=max_length))\n",
    "model.compile(optimizer='adam', loss='mse')\n",
    "\n",
    "print(\"Embedding model created successfully!\")\n",
    "print(f\"Input: sequences of length {max_length} with values 0-{voc_size-1}\")\n",
    "print(f\"Output: sequences of length {max_length} with {dim}-dimensional vectors\")"
   ]
  },
  {
   "cell_type": "code",
   "execution_count": 87,
   "id": "5498d1f6",
   "metadata": {},
   "outputs": [
    {
     "name": "stdout",
     "output_type": "stream",
     "text": [
      "Model: \"sequential_5\"\n",
      "_________________________________________________________________\n",
      " Layer (type)                Output Shape              Param #   \n",
      "=================================================================\n",
      " embedding_3 (Embedding)     (None, 6, 10)             100000    \n",
      "                                                                 \n",
      "=================================================================\n",
      "Total params: 100000 (390.62 KB)\n",
      "Trainable params: 100000 (390.62 KB)\n",
      "Non-trainable params: 0 (0.00 Byte)\n",
      "_________________________________________________________________\n"
     ]
    }
   ],
   "source": [
    "model.summary()"
   ]
  },
  {
   "cell_type": "code",
   "execution_count": null,
   "id": "736ed0fd",
   "metadata": {},
   "outputs": [
    {
     "name": "stdout",
     "output_type": "stream",
     "text": [
      "1/1 [==============================] - 0s 50ms/step\n"
     ]
    },
    {
     "data": {
      "text/plain": [
       "array([[[ 4.52401303e-02,  2.96086110e-02, -2.36815941e-02,\n",
       "          1.53017081e-02, -5.77289984e-03, -1.60127766e-02,\n",
       "         -2.38645561e-02,  4.17132042e-02, -1.94541570e-02,\n",
       "         -4.68686111e-02],\n",
       "        [-1.15698576e-03, -3.55215073e-02, -4.21067961e-02,\n",
       "         -3.43149081e-02,  7.12124258e-03, -9.06425714e-03,\n",
       "         -1.32113583e-02,  2.63844840e-02, -3.94302011e-02,\n",
       "          9.68243927e-03],\n",
       "        [ 1.82633139e-02, -1.08840354e-02,  1.22408643e-02,\n",
       "          1.06004588e-02, -2.68654227e-02,  5.16238064e-03,\n",
       "          4.11438607e-02, -2.99828406e-02, -4.51283455e-02,\n",
       "         -7.12563843e-03],\n",
       "        [ 4.00738828e-02,  3.10209431e-02, -2.73960959e-02,\n",
       "          3.92277278e-02,  8.10158253e-03, -4.86283787e-02,\n",
       "          4.76285554e-02, -1.86126716e-02,  3.70656960e-02,\n",
       "          2.46875770e-02],\n",
       "        [-8.32688063e-04,  9.77336243e-03,  4.97708581e-02,\n",
       "         -4.48839180e-02, -1.03041641e-02, -1.64220221e-02,\n",
       "          3.02719213e-02,  6.63232058e-04, -3.66503224e-02,\n",
       "          3.45011018e-02],\n",
       "        [ 4.74239327e-02, -1.77901872e-02,  4.68652360e-02,\n",
       "          1.75190605e-02,  1.54035948e-02, -1.35889761e-02,\n",
       "         -2.69560944e-02,  6.01200014e-03,  4.59503420e-02,\n",
       "         -2.16790792e-02]],\n",
       "\n",
       "       [[ 4.74239327e-02, -1.77901872e-02,  4.68652360e-02,\n",
       "          1.75190605e-02,  1.54035948e-02, -1.35889761e-02,\n",
       "         -2.69560944e-02,  6.01200014e-03,  4.59503420e-02,\n",
       "         -2.16790792e-02],\n",
       "        [-8.40248913e-03, -4.09154519e-02, -2.66883504e-02,\n",
       "         -1.72844417e-02, -1.23881176e-03,  1.94427632e-02,\n",
       "         -4.92609665e-03,  1.30900778e-02,  2.37889178e-02,\n",
       "          4.46807407e-02],\n",
       "        [-4.05535474e-02, -1.16646513e-02, -8.08161497e-03,\n",
       "          1.17903352e-02,  3.80633734e-02, -3.90429981e-02,\n",
       "          3.24181467e-03, -4.81741540e-02,  2.91929133e-02,\n",
       "          3.09861042e-02],\n",
       "        [ 3.75113972e-02, -1.03070252e-02,  2.10747868e-03,\n",
       "         -8.05769116e-03, -1.49162859e-03,  3.55483219e-03,\n",
       "         -3.24470177e-02,  2.67129801e-02, -1.22002736e-02,\n",
       "         -6.03314489e-03],\n",
       "        [ 8.44633579e-03, -3.13306227e-02,  1.55513994e-02,\n",
       "         -3.22595723e-02, -1.73621774e-02, -4.94048968e-02,\n",
       "          9.97285917e-03, -1.60069466e-02, -4.52344492e-03,\n",
       "          1.26236565e-02],\n",
       "        [-3.16973478e-02,  9.52867419e-03,  3.88182327e-03,\n",
       "         -9.84884799e-04, -6.28590584e-04,  3.63844670e-02,\n",
       "          1.58259161e-02, -2.66360641e-02,  2.25060098e-02,\n",
       "          1.73538364e-02]],\n",
       "\n",
       "       [[-1.15698576e-03, -3.55215073e-02, -4.21067961e-02,\n",
       "         -3.43149081e-02,  7.12124258e-03, -9.06425714e-03,\n",
       "         -1.32113583e-02,  2.63844840e-02, -3.94302011e-02,\n",
       "          9.68243927e-03],\n",
       "        [ 3.46878804e-02, -2.54101884e-02, -5.04213572e-03,\n",
       "         -4.52296808e-03, -1.56263225e-02,  4.56745513e-02,\n",
       "         -4.36838865e-02, -1.31685510e-02,  4.06352021e-02,\n",
       "          8.58934969e-03],\n",
       "        [ 3.00667435e-03, -4.18965109e-02, -1.27778165e-02,\n",
       "         -1.06027946e-02,  3.07683386e-02,  2.12072171e-02,\n",
       "         -2.68140677e-02,  1.81400776e-03,  2.60190405e-02,\n",
       "         -2.18798053e-02],\n",
       "        [-4.91231941e-02, -5.81476837e-03,  4.38285805e-02,\n",
       "          2.26333253e-02,  4.05188650e-03, -3.11319828e-02,\n",
       "          6.26527146e-03, -1.86174028e-02, -4.72401045e-02,\n",
       "          3.76641043e-02],\n",
       "        [-1.49756558e-02, -1.09441653e-02,  1.77193992e-02,\n",
       "         -4.01255116e-02,  1.16969123e-02,  3.72823961e-02,\n",
       "         -4.29209732e-02,  1.05815008e-03, -2.97440533e-02,\n",
       "          1.59478448e-02],\n",
       "        [ 4.74239327e-02, -1.77901872e-02,  4.68652360e-02,\n",
       "          1.75190605e-02,  1.54035948e-02, -1.35889761e-02,\n",
       "         -2.69560944e-02,  6.01200014e-03,  4.59503420e-02,\n",
       "         -2.16790792e-02]],\n",
       "\n",
       "       [[ 4.52401303e-02,  2.96086110e-02, -2.36815941e-02,\n",
       "          1.53017081e-02, -5.77289984e-03, -1.60127766e-02,\n",
       "         -2.38645561e-02,  4.17132042e-02, -1.94541570e-02,\n",
       "         -4.68686111e-02],\n",
       "        [ 4.52401303e-02,  2.96086110e-02, -2.36815941e-02,\n",
       "          1.53017081e-02, -5.77289984e-03, -1.60127766e-02,\n",
       "         -2.38645561e-02,  4.17132042e-02, -1.94541570e-02,\n",
       "         -4.68686111e-02],\n",
       "        [ 8.44633579e-03, -3.13306227e-02,  1.55513994e-02,\n",
       "         -3.22595723e-02, -1.73621774e-02, -4.94048968e-02,\n",
       "          9.97285917e-03, -1.60069466e-02, -4.52344492e-03,\n",
       "          1.26236565e-02],\n",
       "        [-3.16973478e-02,  9.52867419e-03,  3.88182327e-03,\n",
       "         -9.84884799e-04, -6.28590584e-04,  3.63844670e-02,\n",
       "          1.58259161e-02, -2.66360641e-02,  2.25060098e-02,\n",
       "          1.73538364e-02],\n",
       "        [-8.40248913e-03, -4.09154519e-02, -2.66883504e-02,\n",
       "         -1.72844417e-02, -1.23881176e-03,  1.94427632e-02,\n",
       "         -4.92609665e-03,  1.30900778e-02,  2.37889178e-02,\n",
       "          4.46807407e-02],\n",
       "        [-1.70238502e-02,  4.11679633e-02, -5.04859537e-03,\n",
       "         -2.01945063e-02, -3.24763805e-02, -1.29847638e-02,\n",
       "          3.82636301e-02,  2.25304253e-02, -1.23159178e-02,\n",
       "         -4.74504344e-02]],\n",
       "\n",
       "       [[ 4.52401303e-02,  2.96086110e-02, -2.36815941e-02,\n",
       "          1.53017081e-02, -5.77289984e-03, -1.60127766e-02,\n",
       "         -2.38645561e-02,  4.17132042e-02, -1.94541570e-02,\n",
       "         -4.68686111e-02],\n",
       "        [-1.15698576e-03, -3.55215073e-02, -4.21067961e-02,\n",
       "         -3.43149081e-02,  7.12124258e-03, -9.06425714e-03,\n",
       "         -1.32113583e-02,  2.63844840e-02, -3.94302011e-02,\n",
       "          9.68243927e-03],\n",
       "        [ 1.82633139e-02, -1.08840354e-02,  1.22408643e-02,\n",
       "          1.06004588e-02, -2.68654227e-02,  5.16238064e-03,\n",
       "          4.11438607e-02, -2.99828406e-02, -4.51283455e-02,\n",
       "         -7.12563843e-03],\n",
       "        [-3.05019617e-02,  3.91896404e-02, -1.70382857e-02,\n",
       "          1.72338970e-02, -1.45546347e-03,  5.12998179e-03,\n",
       "         -1.18418708e-02,  4.43097986e-02,  7.28607178e-03,\n",
       "          1.09751597e-02],\n",
       "        [-3.36378366e-02, -3.30778584e-02, -1.19938739e-02,\n",
       "          6.82212040e-03,  7.95305893e-03, -3.00837997e-02,\n",
       "          4.19808663e-02,  3.89152057e-02, -5.42525202e-03,\n",
       "          3.70011069e-02],\n",
       "        [-1.17535107e-02, -1.15508549e-02, -3.41950879e-02,\n",
       "          4.73892801e-02,  4.21160795e-02,  1.36281364e-02,\n",
       "          2.93162577e-02, -1.35382190e-02, -2.81959306e-02,\n",
       "         -4.49459553e-02]],\n",
       "\n",
       "       [[ 4.52401303e-02,  2.96086110e-02, -2.36815941e-02,\n",
       "          1.53017081e-02, -5.77289984e-03, -1.60127766e-02,\n",
       "         -2.38645561e-02,  4.17132042e-02, -1.94541570e-02,\n",
       "         -4.68686111e-02],\n",
       "        [ 4.74239327e-02, -1.77901872e-02,  4.68652360e-02,\n",
       "          1.75190605e-02,  1.54035948e-02, -1.35889761e-02,\n",
       "         -2.69560944e-02,  6.01200014e-03,  4.59503420e-02,\n",
       "         -2.16790792e-02],\n",
       "        [-8.40248913e-03, -4.09154519e-02, -2.66883504e-02,\n",
       "         -1.72844417e-02, -1.23881176e-03,  1.94427632e-02,\n",
       "         -4.92609665e-03,  1.30900778e-02,  2.37889178e-02,\n",
       "          4.46807407e-02],\n",
       "        [-4.05873768e-02,  2.04105638e-02,  1.67821757e-02,\n",
       "          1.81717798e-03,  4.23495881e-02, -1.81850903e-02,\n",
       "         -7.09071755e-05, -4.26951796e-03,  1.00771561e-02,\n",
       "         -3.60508934e-02],\n",
       "        [-9.64020565e-03,  2.48992331e-02, -2.53845342e-02,\n",
       "          1.88377984e-02,  3.93328406e-02,  4.69400026e-02,\n",
       "          3.23722847e-02,  3.16238441e-02, -4.99429703e-02,\n",
       "          1.00116134e-02],\n",
       "        [-1.83277354e-02,  1.96495317e-02, -3.55600938e-02,\n",
       "         -3.55495326e-02, -2.62721423e-02, -2.05634478e-02,\n",
       "          4.41582315e-02,  6.56652451e-03, -4.16945815e-02,\n",
       "         -1.96927190e-02]],\n",
       "\n",
       "       [[-1.15698576e-03, -3.55215073e-02, -4.21067961e-02,\n",
       "         -3.43149081e-02,  7.12124258e-03, -9.06425714e-03,\n",
       "         -1.32113583e-02,  2.63844840e-02, -3.94302011e-02,\n",
       "          9.68243927e-03],\n",
       "        [ 3.46878804e-02, -2.54101884e-02, -5.04213572e-03,\n",
       "         -4.52296808e-03, -1.56263225e-02,  4.56745513e-02,\n",
       "         -4.36838865e-02, -1.31685510e-02,  4.06352021e-02,\n",
       "          8.58934969e-03],\n",
       "        [ 1.37848370e-02, -4.51147668e-02,  4.73111868e-03,\n",
       "         -2.54852772e-02, -2.34636310e-02, -4.07039002e-03,\n",
       "          3.90571244e-02,  6.63069636e-03,  3.86096723e-02,\n",
       "         -3.69297639e-02],\n",
       "        [-3.34597379e-02,  1.42194070e-02, -4.50293683e-02,\n",
       "          3.97109501e-02, -4.46708128e-03, -1.39507167e-02,\n",
       "          9.31822136e-03,  4.57542278e-02,  1.90197267e-02,\n",
       "         -5.32485545e-04],\n",
       "        [-3.05019617e-02,  3.91896404e-02, -1.70382857e-02,\n",
       "          1.72338970e-02, -1.45546347e-03,  5.12998179e-03,\n",
       "         -1.18418708e-02,  4.43097986e-02,  7.28607178e-03,\n",
       "          1.09751597e-02],\n",
       "        [-1.65055767e-02, -4.79446165e-02, -2.98091769e-02,\n",
       "         -3.10357809e-02, -4.55503836e-02, -3.35304625e-02,\n",
       "          2.77111642e-02,  8.53741169e-03, -7.50020891e-03,\n",
       "         -2.63038874e-02]]], dtype=float32)"
      ]
     },
     "execution_count": 88,
     "metadata": {},
     "output_type": "execute_result"
    }
   ],
   "source": [
    "# Generate embeddings and analyze the output\n",
    "embeddings = model.predict(embedded_doc)\n",
    "\n",
    "print(\"Embedding generation complete!\")\n",
    "print(f\"Input shape: {embedded_doc.shape}\")\n",
    "print(f\"Output shape: {embeddings.shape}\")\n",
    "print(f\"Each word is now represented by a {dim}-dimensional vector\\\\n\")\n",
    "\n",
    "# Visualize embeddings for the first sentence\n",
    "def visualize_embeddings(embeddings, sentence_idx=0, save_plot=True):\n",
    "    \"\"\"Visualize word embeddings for a specific sentence\"\"\"\n",
    "    sentence_embedding = embeddings[sentence_idx]\n",
    "    \n",
    "    plt.figure(figsize=(12, 8))\n",
    "    plt.imshow(sentence_embedding.T, cmap='viridis', aspect='auto')\n",
    "    plt.colorbar(label='Embedding Values')\n",
    "    plt.title(f'Word Embeddings Visualization - Sentence {sentence_idx + 1}\\\\n\"{sent[sentence_idx]}\"', \n",
    "              fontsize=14, fontweight='bold')\n",
    "    plt.xlabel('Word Position in Sentence', fontsize=12)\n",
    "    plt.ylabel('Embedding Dimensions', fontsize=12)\n",
    "    plt.yticks(range(dim), [f'Dim {i+1}' for i in range(dim)])\n",
    "    \n",
    "    if save_plot:\n",
    "        plt.savefig('plots/word_embeddings_heatmap.png', dpi=300, bbox_inches='tight')\n",
    "    plt.show()\n",
    "    \n",
    "    # Print embedding statistics\n",
    "    print(f\"Embedding statistics for sentence {sentence_idx + 1}:\")\n",
    "    print(f\"Mean: {sentence_embedding.mean():.4f}\")\n",
    "    print(f\"Std: {sentence_embedding.std():.4f}\")\n",
    "    print(f\"Min: {sentence_embedding.min():.4f}\")\n",
    "    print(f\"Max: {sentence_embedding.max():.4f}\")\n",
    "\n",
    "# Visualize embeddings\n",
    "visualize_embeddings(embeddings, sentence_idx=0)\n",
    "\n",
    "embeddings"
   ]
  },
  {
   "cell_type": "code",
   "execution_count": null,
   "id": "b92a9f75",
   "metadata": {},
   "outputs": [],
   "source": [
    "# Summary and Key Takeaways\n",
    "print(\"\\\\n\" + \"=\"*60)\n",
    "print(\"           EMBEDDING TUTORIAL SUMMARY\")\n",
    "print(\"=\"*60)\n",
    "print(\"\\\\n✅ Successfully demonstrated:\")\n",
    "print(\"   • One-hot encoding of text data\")\n",
    "print(\"   • Sequence padding for uniform input length\")\n",
    "print(\"   • Word embedding layer creation\")\n",
    "print(\"   • Dense vector representation generation\")\n",
    "print(\"\\\\n🎯 Key Concepts Learned:\")\n",
    "print(\"   • Word embeddings create dense, learnable representations\")\n",
    "print(\"   • Padding ensures uniform sequence lengths\")\n",
    "print(\"   • Embedding dimensions control representation complexity\")\n",
    "print(\"   • Embeddings can capture semantic word relationships\")\n",
    "print(\"\\\\n📈 Next Steps:\")\n",
    "print(\"   • Use these embeddings in RNN/LSTM models\")\n",
    "print(\"   • Train on larger datasets for better representations\")\n",
    "print(\"   • Experiment with different embedding dimensions\")\n",
    "print(\"   • Apply to real NLP tasks like sentiment analysis\")\n",
    "print(\"\\\\n💾 Generated Files:\")\n",
    "print(\"   • plots/one_hot_encoding_analysis.png\")\n",
    "print(\"   • plots/word_embeddings_heatmap.png\")\n",
    "print(\"=\"*60)"
   ]
  }
 ],
 "metadata": {
  "kernelspec": {
   "display_name": "Python 3",
   "language": "python",
   "name": "python3"
  },
  "language_info": {
   "codemirror_mode": {
    "name": "ipython",
    "version": 3
   },
   "file_extension": ".py",
   "mimetype": "text/x-python",
   "name": "python",
   "nbconvert_exporter": "python",
   "pygments_lexer": "ipython3",
   "version": "3.11.0"
  }
 },
 "nbformat": 4,
 "nbformat_minor": 5
}
